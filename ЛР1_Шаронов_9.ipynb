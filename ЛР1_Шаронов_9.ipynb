{
 "metadata": {
  "kernelspec": {
   "language": "python",
   "display_name": "Python 3",
   "name": "python3"
  },
  "language_info": {
   "name": "python",
   "version": "3.10.14",
   "mimetype": "text/x-python",
   "codemirror_mode": {
    "name": "ipython",
    "version": 3
   },
   "pygments_lexer": "ipython3",
   "nbconvert_exporter": "python",
   "file_extension": ".py"
  },
  "kaggle": {
   "accelerator": "none",
   "dataSources": [
    {
     "sourceId": 9345146,
     "sourceType": "datasetVersion",
     "datasetId": 5663930
    }
   ],
   "dockerImageVersionId": 30761,
   "isInternetEnabled": true,
   "language": "python",
   "sourceType": "notebook",
   "isGpuEnabled": false
  }
 },
 "nbformat_minor": 4,
 "nbformat": 4,
 "cells": [
  {
   "cell_type": "markdown",
   "source": "# Лабораторная работа №1. Вариант 9",
   "metadata": {}
  },
  {
   "cell_type": "code",
   "source": "import pandas as pd",
   "metadata": {
    "_uuid": "8f2839f25d086af736a60e9eeb907d3b93b6e0e5",
    "_cell_guid": "b1076dfc-b9ad-4769-8c92-a6c4dae69d19",
    "execution": {
     "iopub.status.busy": "2024-09-08T14:18:37.581366Z",
     "iopub.execute_input": "2024-09-08T14:18:37.581822Z",
     "iopub.status.idle": "2024-09-08T14:18:37.587370Z",
     "shell.execute_reply.started": "2024-09-08T14:18:37.581775Z",
     "shell.execute_reply": "2024-09-08T14:18:37.586067Z"
    },
    "trusted": true
   },
   "execution_count": null,
   "outputs": []
  },
  {
   "cell_type": "markdown",
   "source": "#### Считываем csv файл, указывая разделителем \";\"",
   "metadata": {}
  },
  {
   "cell_type": "code",
   "source": "data = pd.read_csv('visits.csv', sep=';')",
   "metadata": {
    "execution": {
     "iopub.status.busy": "2024-09-08T14:18:37.851305Z",
     "iopub.execute_input": "2024-09-08T14:18:37.851782Z",
     "iopub.status.idle": "2024-09-08T14:18:37.865050Z",
     "shell.execute_reply.started": "2024-09-08T14:18:37.851717Z",
     "shell.execute_reply": "2024-09-08T14:18:37.863658Z"
    },
    "trusted": true
   },
   "execution_count": null,
   "outputs": []
  },
  {
   "cell_type": "markdown",
   "source": "#### Выводим первые 20 строк датафрейка ",
   "metadata": {}
  },
  {
   "cell_type": "code",
   "source": "data.head(20)",
   "metadata": {
    "execution": {
     "iopub.status.busy": "2024-09-08T14:18:38.085777Z",
     "iopub.execute_input": "2024-09-08T14:18:38.086233Z",
     "iopub.status.idle": "2024-09-08T14:18:38.104963Z",
     "shell.execute_reply.started": "2024-09-08T14:18:38.086191Z",
     "shell.execute_reply": "2024-09-08T14:18:38.103548Z"
    },
    "trusted": true
   },
   "execution_count": null,
   "outputs": []
  },
  {
   "cell_type": "markdown",
   "source": "***Датасет представляет собой информацию визита о пользователя в магазин. Первый столбец указвывает на ID пользователя, второй Region на страну из который было совершено подключение, третий Device c устройства с какой ОС было осуществленно посещение магазина, чётверый Channel показывет по какому рекламному каналу пользователь попал в магазин, пятый Session_Start и шестой SESSION_End показывают время старта и конца сессии соттветсвенно.***",
   "metadata": {}
  },
  {
   "cell_type": "markdown",
   "source": "#### Применим метод info",
   "metadata": {}
  },
  {
   "cell_type": "code",
   "source": "data.info()",
   "metadata": {
    "execution": {
     "iopub.status.busy": "2024-09-08T14:18:38.581474Z",
     "iopub.execute_input": "2024-09-08T14:18:38.582243Z",
     "iopub.status.idle": "2024-09-08T14:18:38.594461Z",
     "shell.execute_reply.started": "2024-09-08T14:18:38.582194Z",
     "shell.execute_reply": "2024-09-08T14:18:38.593157Z"
    },
    "trusted": true
   },
   "execution_count": null,
   "outputs": []
  },
  {
   "cell_type": "markdown",
   "source": "***Видим что всего 957 строк, тип данных всех столбцов object, так же видим что в некоторых столбцах есть пропуски***",
   "metadata": {}
  },
  {
   "cell_type": "markdown",
   "source": "#### Применим метод describe",
   "metadata": {}
  },
  {
   "cell_type": "code",
   "source": "data.describe()",
   "metadata": {
    "execution": {
     "iopub.status.busy": "2024-09-08T14:18:38.955304Z",
     "iopub.execute_input": "2024-09-08T14:18:38.955735Z",
     "iopub.status.idle": "2024-09-08T14:18:38.981638Z",
     "shell.execute_reply.started": "2024-09-08T14:18:38.955692Z",
     "shell.execute_reply": "2024-09-08T14:18:38.980545Z"
    },
    "trusted": true
   },
   "execution_count": null,
   "outputs": []
  },
  {
   "cell_type": "markdown",
   "source": "***Так как все столбцы имеют тип данных object мы не получает полноценную статистику по данным***",
   "metadata": {}
  },
  {
   "cell_type": "markdown",
   "source": "#### Посмотрим на название столбцов и для удобства преобразуем их в нижний регистр",
   "metadata": {}
  },
  {
   "cell_type": "code",
   "source": "data.columns = data.columns.str.lower()\ndata.columns.str.lower()",
   "metadata": {
    "execution": {
     "iopub.status.busy": "2024-09-08T14:18:39.414133Z",
     "iopub.execute_input": "2024-09-08T14:18:39.415654Z",
     "iopub.status.idle": "2024-09-08T14:18:39.429424Z",
     "shell.execute_reply.started": "2024-09-08T14:18:39.415574Z",
     "shell.execute_reply": "2024-09-08T14:18:39.427632Z"
    },
    "trusted": true
   },
   "execution_count": null,
   "outputs": []
  },
  {
   "cell_type": "markdown",
   "source": "#### Проверим данные на наличие пропусков",
   "metadata": {}
  },
  {
   "cell_type": "code",
   "source": "data.isnull().sum()",
   "metadata": {
    "execution": {
     "iopub.status.busy": "2024-09-08T14:18:39.682409Z",
     "iopub.execute_input": "2024-09-08T14:18:39.682997Z",
     "iopub.status.idle": "2024-09-08T14:18:39.693263Z",
     "shell.execute_reply.started": "2024-09-08T14:18:39.682936Z",
     "shell.execute_reply": "2024-09-08T14:18:39.692074Z"
    },
    "trusted": true
   },
   "execution_count": null,
   "outputs": []
  },
  {
   "cell_type": "markdown",
   "source": "***Видим наличе пропусков в 4 столбцах***",
   "metadata": {}
  },
  {
   "cell_type": "markdown",
   "source": "#### Так как пропуски в данных составляют меньше 1% можем без мук совести дропнуть их",
   "metadata": {}
  },
  {
   "cell_type": "code",
   "source": "data = data.dropna()\ndata.isnull().sum()",
   "metadata": {
    "execution": {
     "iopub.status.busy": "2024-09-08T14:18:40.683871Z",
     "iopub.execute_input": "2024-09-08T14:18:40.685237Z",
     "iopub.status.idle": "2024-09-08T14:18:40.698147Z",
     "shell.execute_reply.started": "2024-09-08T14:18:40.685182Z",
     "shell.execute_reply": "2024-09-08T14:18:40.696815Z"
    },
    "trusted": true
   },
   "execution_count": null,
   "outputs": []
  },
  {
   "cell_type": "markdown",
   "source": "***Видим что пропусков больше нет***",
   "metadata": {}
  },
  {
   "cell_type": "markdown",
   "source": "#### Проверим данные на наличие дублей",
   "metadata": {}
  },
  {
   "cell_type": "code",
   "source": "print(f'Явные дубли: {data.duplicated().sum()}')",
   "metadata": {
    "execution": {
     "iopub.status.busy": "2024-09-08T14:18:41.241189Z",
     "iopub.execute_input": "2024-09-08T14:18:41.241641Z",
     "iopub.status.idle": "2024-09-08T14:18:41.253050Z",
     "shell.execute_reply.started": "2024-09-08T14:18:41.241598Z",
     "shell.execute_reply": "2024-09-08T14:18:41.251266Z"
    },
    "trusted": true
   },
   "execution_count": null,
   "outputs": []
  },
  {
   "cell_type": "markdown",
   "source": "#### Удаляем дубли",
   "metadata": {}
  },
  {
   "cell_type": "code",
   "source": "data = data.drop_duplicates()\ndata.duplicated().sum()",
   "metadata": {
    "execution": {
     "iopub.status.busy": "2024-09-08T14:18:41.817798Z",
     "iopub.execute_input": "2024-09-08T14:18:41.818228Z",
     "iopub.status.idle": "2024-09-08T14:18:41.832286Z",
     "shell.execute_reply.started": "2024-09-08T14:18:41.818187Z",
     "shell.execute_reply": "2024-09-08T14:18:41.830834Z"
    },
    "trusted": true
   },
   "execution_count": null,
   "outputs": []
  },
  {
   "cell_type": "markdown",
   "source": "***Видим что явных дублей больше нет***",
   "metadata": {}
  },
  {
   "cell_type": "markdown",
   "source": "#### Поищим неявные дубли",
   "metadata": {}
  },
  {
   "cell_type": "code",
   "source": "data_dub = data.apply(lambda x: x.str.strip().str.lower() if x.dtype == \"object\" else x)\nprint(\"Неявные дубликаты:\", data_dub.duplicated().sum())",
   "metadata": {
    "execution": {
     "iopub.status.busy": "2024-09-08T14:18:42.686257Z",
     "iopub.execute_input": "2024-09-08T14:18:42.686705Z",
     "iopub.status.idle": "2024-09-08T14:18:42.708049Z",
     "shell.execute_reply.started": "2024-09-08T14:18:42.686663Z",
     "shell.execute_reply": "2024-09-08T14:18:42.706719Z"
    },
    "trusted": true
   },
   "execution_count": null,
   "outputs": []
  },
  {
   "cell_type": "markdown",
   "source": "***Видим что неявных дублей нет***",
   "metadata": {}
  },
  {
   "cell_type": "markdown",
   "source": "#### Теперь исправим типы данных, так как они все object",
   "metadata": {}
  },
  {
   "cell_type": "code",
   "source": "data.info()",
   "metadata": {
    "execution": {
     "iopub.status.busy": "2024-09-08T14:18:44.078765Z",
     "iopub.execute_input": "2024-09-08T14:18:44.079405Z",
     "iopub.status.idle": "2024-09-08T14:18:44.095364Z",
     "shell.execute_reply.started": "2024-09-08T14:18:44.079356Z",
     "shell.execute_reply": "2024-09-08T14:18:44.093845Z"
    },
    "trusted": true
   },
   "execution_count": null,
   "outputs": []
  },
  {
   "cell_type": "markdown",
   "source": "#### Сначала исправим тип данных для user_id, данные из него выглядят как запись вещественных чисел в научной нотации, преобразуем этот тип в числовой",
   "metadata": {}
  },
  {
   "cell_type": "code",
   "source": "# заменим точки на запятые\ndata.user_id = data.user_id.str.replace(',', '.').str.strip()",
   "metadata": {
    "execution": {
     "iopub.status.busy": "2024-09-08T14:23:05.624981Z",
     "iopub.execute_input": "2024-09-08T14:23:05.625471Z",
     "iopub.status.idle": "2024-09-08T14:23:05.635579Z",
     "shell.execute_reply.started": "2024-09-08T14:23:05.625416Z",
     "shell.execute_reply": "2024-09-08T14:23:05.634061Z"
    },
    "trusted": true
   },
   "execution_count": null,
   "outputs": []
  },
  {
   "cell_type": "code",
   "source": "data.user_id = pd.to_numeric(data.user_id, errors='coerce')",
   "metadata": {
    "execution": {
     "iopub.status.busy": "2024-09-08T14:24:37.231396Z",
     "iopub.execute_input": "2024-09-08T14:24:37.231867Z",
     "iopub.status.idle": "2024-09-08T14:24:37.239094Z",
     "shell.execute_reply.started": "2024-09-08T14:24:37.231821Z",
     "shell.execute_reply": "2024-09-08T14:24:37.237759Z"
    },
    "trusted": true
   },
   "execution_count": null,
   "outputs": []
  },
  {
   "cell_type": "code",
   "source": "print(data.user_id.dtype)",
   "metadata": {
    "execution": {
     "iopub.status.busy": "2024-09-08T14:24:39.652492Z",
     "iopub.execute_input": "2024-09-08T14:24:39.653653Z",
     "iopub.status.idle": "2024-09-08T14:24:39.661301Z",
     "shell.execute_reply.started": "2024-09-08T14:24:39.653562Z",
     "shell.execute_reply": "2024-09-08T14:24:39.659829Z"
    },
    "trusted": true
   },
   "execution_count": null,
   "outputs": []
  },
  {
   "cell_type": "markdown",
   "source": "***Тип данных изменился***",
   "metadata": {}
  },
  {
   "cell_type": "markdown",
   "source": "#### Теперь изменим тип данных в стобцах session_start и session_end на datetime",
   "metadata": {}
  },
  {
   "cell_type": "code",
   "source": "data['session_start'] = pd.to_datetime(data['session_start'])\ndata['session_end'] = pd.to_datetime(data['session_end'])",
   "metadata": {
    "execution": {
     "iopub.status.busy": "2024-09-08T14:34:12.207457Z",
     "iopub.execute_input": "2024-09-08T14:34:12.207965Z",
     "iopub.status.idle": "2024-09-08T14:34:12.223983Z",
     "shell.execute_reply.started": "2024-09-08T14:34:12.207917Z",
     "shell.execute_reply": "2024-09-08T14:34:12.221327Z"
    },
    "trusted": true
   },
   "execution_count": null,
   "outputs": []
  },
  {
   "cell_type": "code",
   "source": "print(data.session_start.dtype)\nprint(data.session_end.dtype)",
   "metadata": {
    "execution": {
     "iopub.status.busy": "2024-09-08T14:34:12.367583Z",
     "iopub.execute_input": "2024-09-08T14:34:12.368032Z",
     "iopub.status.idle": "2024-09-08T14:34:12.375436Z",
     "shell.execute_reply.started": "2024-09-08T14:34:12.367990Z",
     "shell.execute_reply": "2024-09-08T14:34:12.374002Z"
    },
    "trusted": true
   },
   "execution_count": null,
   "outputs": []
  },
  {
   "cell_type": "markdown",
   "source": "***Тип данных изменился***\n",
   "metadata": {}
  },
  {
   "cell_type": "markdown",
   "source": "#### Теперь изменим тип данных для region, device и chanel им подойдёт str",
   "metadata": {}
  },
  {
   "cell_type": "code",
   "source": "data['region'] = data['region'].astype(str)\ndata['device'] = data['device'].astype(str)\ndata['channel'] = data['channel'].astype(str)\n",
   "metadata": {
    "execution": {
     "iopub.status.busy": "2024-09-08T14:38:49.501430Z",
     "iopub.execute_input": "2024-09-08T14:38:49.502050Z",
     "iopub.status.idle": "2024-09-08T14:38:49.509313Z",
     "shell.execute_reply.started": "2024-09-08T14:38:49.502004Z",
     "shell.execute_reply": "2024-09-08T14:38:49.508098Z"
    },
    "trusted": true
   },
   "execution_count": null,
   "outputs": []
  },
  {
   "cell_type": "code",
   "source": "print(data.channel.dtype)\nprint(data.device.dtype)\nprint(data.region.dtype)",
   "metadata": {
    "execution": {
     "iopub.status.busy": "2024-09-08T14:39:05.723095Z",
     "iopub.execute_input": "2024-09-08T14:39:05.723535Z",
     "iopub.status.idle": "2024-09-08T14:39:05.731165Z",
     "shell.execute_reply.started": "2024-09-08T14:39:05.723491Z",
     "shell.execute_reply": "2024-09-08T14:39:05.729777Z"
    },
    "trusted": true
   },
   "execution_count": null,
   "outputs": []
  },
  {
   "cell_type": "markdown",
   "source": "***Тип данных теперь точно str, так как в pandas для str выводится object***\n",
   "metadata": {}
  },
  {
   "cell_type": "markdown",
   "source": "# Выполнение индивидуального задания по варианту 9",
   "metadata": {}
  },
  {
   "cell_type": "markdown",
   "source": "#### **Задание 1** : Группировка - region и количество устройств (device ).\n",
   "metadata": {}
  },
  {
   "cell_type": "code",
   "source": "data.groupby('region')['device'].count().reset_index()",
   "metadata": {
    "execution": {
     "iopub.status.busy": "2024-09-08T14:50:28.453786Z",
     "iopub.execute_input": "2024-09-08T14:50:28.454208Z",
     "iopub.status.idle": "2024-09-08T14:50:28.474839Z",
     "shell.execute_reply.started": "2024-09-08T14:50:28.454168Z",
     "shell.execute_reply": "2024-09-08T14:50:28.473255Z"
    },
    "trusted": true
   },
   "execution_count": null,
   "outputs": []
  },
  {
   "cell_type": "markdown",
   "source": "#### **Задание 2** : Группировка - region и количество устройств (device ). Создать датафрейм. Переименовать столбец с количеством в “сount”. Отсортировать по убыванию столбца “count”. \n",
   "metadata": {}
  },
  {
   "cell_type": "code",
   "source": "df_gr_reg = data.groupby('region')['device'].count().reset_index()\ndf_gr_reg.columns = ['region', 'count']\ndf_gr_reg_sort = df_gr_reg.sort_values(by='count', ascending=False).reset_index()\ndf_gr_reg_sort",
   "metadata": {
    "execution": {
     "iopub.status.busy": "2024-09-08T14:54:07.356939Z",
     "iopub.execute_input": "2024-09-08T14:54:07.357361Z",
     "iopub.status.idle": "2024-09-08T14:54:07.375045Z",
     "shell.execute_reply.started": "2024-09-08T14:54:07.357312Z",
     "shell.execute_reply": "2024-09-08T14:54:07.373817Z"
    },
    "trusted": true
   },
   "execution_count": null,
   "outputs": []
  },
  {
   "cell_type": "markdown",
   "source": "#### **Задание 3**: Сводная таблица (pivot_table) - количество пользователей для каждого канала (device). Отсортировать по убыванию количества.\n",
   "metadata": {}
  },
  {
   "cell_type": "code",
   "source": "pivot_table = data.pivot_table(index='device', values='user_id', aggfunc='count').sort_values(by='user_id', ascending=False)\npivot_table\n",
   "metadata": {
    "execution": {
     "iopub.status.busy": "2024-09-08T15:00:18.386019Z",
     "iopub.execute_input": "2024-09-08T15:00:18.387499Z",
     "iopub.status.idle": "2024-09-08T15:00:18.405529Z",
     "shell.execute_reply.started": "2024-09-08T15:00:18.387345Z",
     "shell.execute_reply": "2024-09-08T15:00:18.403958Z"
    },
    "trusted": true
   },
   "execution_count": null,
   "outputs": []
  },
  {
   "cell_type": "markdown",
   "source": "#### **Задание 4**: Сводная таблица (pivot_table) - уникальное количество пользователей для каждого устройства (device) - столбцы и региона- строки. Отсортировать по возрастанию столбца region.\n",
   "metadata": {}
  },
  {
   "cell_type": "code",
   "source": "pivot_table_2 = data.pivot_table(index='region', columns='device', values='user_id', aggfunc=pd.Series.nunique, fill_value=0).sort_index(axis=0)\npivot_table_2",
   "metadata": {
    "execution": {
     "iopub.status.busy": "2024-09-08T15:01:46.533171Z",
     "iopub.execute_input": "2024-09-08T15:01:46.533768Z",
     "iopub.status.idle": "2024-09-08T15:01:46.568566Z",
     "shell.execute_reply.started": "2024-09-08T15:01:46.533700Z",
     "shell.execute_reply": "2024-09-08T15:01:46.566931Z"
    },
    "trusted": true
   },
   "execution_count": null,
   "outputs": []
  }
 ]
}
